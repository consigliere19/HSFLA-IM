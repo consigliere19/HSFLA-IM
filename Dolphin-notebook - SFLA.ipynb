{
 "cells": [
  {
   "cell_type": "code",
   "execution_count": 43,
   "metadata": {},
   "outputs": [],
   "source": [
    "import networkx as nx\n",
    "import csv\n",
    "import igraph\n",
    "import random\n",
    "import numpy as np\n",
    "from igraph import *\n",
    "from collections import deque"
   ]
  },
  {
   "cell_type": "code",
   "execution_count": 44,
   "metadata": {},
   "outputs": [],
   "source": [
    "f=open(\"dolphins.gml\")"
   ]
  },
  {
   "cell_type": "code",
   "execution_count": 45,
   "metadata": {},
   "outputs": [],
   "source": [
    "g = Graph.Read_GML(f)\n",
    "#g"
   ]
  },
  {
   "cell_type": "code",
   "execution_count": 46,
   "metadata": {},
   "outputs": [],
   "source": [
    "neighbors_list = g.get_adjlist(mode=OUT)"
   ]
  },
  {
   "cell_type": "code",
   "execution_count": 47,
   "metadata": {},
   "outputs": [],
   "source": [
    "verclus=g.community_multilevel()   # Using infomap community detection \n",
    "\n",
    "total_clusters=len(verclus)\n",
    "\n",
    "#print(verclus)\n",
    "#print(g.modularity(verclus))"
   ]
  },
  {
   "cell_type": "code",
   "execution_count": 48,
   "metadata": {},
   "outputs": [],
   "source": [
    "w=0.5\n",
    "sz = np.zeros((total_clusters))\n",
    "sz1=np.zeros((total_clusters))\n",
    "for i in range(total_clusters):\n",
    "    edge=0\n",
    "    for j in verclus[i]:\n",
    "        templist=neighbors_list[j]\n",
    "        for k in templist:\n",
    "            if k not in verclus[i]:\n",
    "                edge+=1\n",
    "    sz1[i]=edge\n",
    "for i in range(total_clusters):\n",
    "    sz[i]=w*len(verclus[i])+(1-w)*sz1[i] \n",
    "sort_order = np.argsort(sz)\n",
    "#print(sort_order)\n",
    "sig_com = []\n",
    "for i in range(total_clusters):\n",
    "    sig_com.append(verclus[sort_order[total_clusters-1-i]])\n",
    "#print(len(sig_com))\n",
    "#print(sig_com)"
   ]
  },
  {
   "cell_type": "code",
   "execution_count": 49,
   "metadata": {},
   "outputs": [],
   "source": [
    "num_candidates = []\n",
    "\n",
    "max_c = -1\n",
    "min_c = 10000000000\n",
    "\n",
    "for i in range(total_clusters):\n",
    "    if(len(sig_com[i]) < min_c):\n",
    "        min_c = len(sig_com[i])\n",
    "    if(len(sig_com[i]) > max_c):\n",
    "        max_c = len(sig_com[i])\n",
    "        \n",
    "alpha = 4\n",
    "beta = 10\n",
    "\n",
    "for i in range(total_clusters):\n",
    "    x = (len(sig_com[i])-min_c)/(max_c-min_c)*beta + alpha\n",
    "    if x>len(sig_com[i]):\n",
    "        x=len(sig_com[i])\n",
    "    num_candidates.append(int(x))\n",
    "    \n",
    "#print(num_candidates)    "
   ]
  },
  {
   "cell_type": "code",
   "execution_count": 50,
   "metadata": {},
   "outputs": [],
   "source": [
    "deg = g.indegree()\n",
    "#len(deg)"
   ]
  },
  {
   "cell_type": "code",
   "execution_count": 51,
   "metadata": {},
   "outputs": [],
   "source": [
    "def closeness_centrality(particle):\n",
    "    visit=np.zeros((g.vcount()))\n",
    "    cc=np.zeros((g.vcount()))\n",
    "    q=deque()\n",
    "    q.append(particle)\n",
    "    cc[particle]=0\n",
    "    while q:\n",
    "        cur=q.popleft()\n",
    "        visit[cur]=1\n",
    "        for j in neighbors_list[cur]:\n",
    "            if visit[j]==0:\n",
    "                cc[j]=cc[cur]+1\n",
    "                q.append(j)\n",
    "    return np.sum(cc)"
   ]
  },
  {
   "cell_type": "code",
   "execution_count": 52,
   "metadata": {},
   "outputs": [],
   "source": [
    "def LAC(particle):\n",
    "    list=neighbors_list[particle]\n",
    "    l=len(list)\n",
    "    sum=0\n",
    "    for i in range(l):\n",
    "        for j in range(i+1,l):\n",
    "            if j in neighbors_list[i]:\n",
    "                sum+=1\n",
    "    return sum/l"
   ]
  },
  {
   "cell_type": "code",
   "execution_count": 53,
   "metadata": {},
   "outputs": [],
   "source": [
    "candidates=[]\n",
    "for i in range(total_clusters):\n",
    "    temp = sig_com[i]\n",
    "    degs = np.zeros((len(temp)))\n",
    "    for j in range(len(temp)):\n",
    "        #degs[j]=deg[temp[j]]\n",
    "        degs[j]=LAC(temp[j])\n",
    "        #degs[j]=closeness_centrality(temp[j])\n",
    "    sort_order=np.argsort(degs)\n",
    "    #desc_order = np.flip(sort_order,0)\n",
    "    sz=len(sort_order)\n",
    "    for z in range(num_candidates[i]):\n",
    "        candidates.append(sig_com[i][sort_order[sz-1-z]])\n",
    "        #candidates.append(sig_com[i][sort_order[z]])\n",
    "#print(candidates)        \n",
    "#print(len(candidates))"
   ]
  },
  {
   "cell_type": "code",
   "execution_count": 54,
   "metadata": {},
   "outputs": [],
   "source": [
    "def similarity(u,v):\n",
    "    neighbors_u = set()\n",
    "    neighbors_u.add(u)\n",
    "    for i in neighbors_list[u]:\n",
    "        neighbors_u.add(i)\n",
    "    neighbors_v = set()\n",
    "    neighbors_v.add(v)\n",
    "    for i in neighbors_list[v]:\n",
    "        neighbors_v.add(i)\n",
    "    sim = len(neighbors_u.intersection(neighbors_v))/(len(neighbors_u) + len(neighbors_v))\n",
    "    return sim"
   ]
  },
  {
   "cell_type": "code",
   "execution_count": 55,
   "metadata": {},
   "outputs": [],
   "source": [
    "random.seed(200)\n",
    "def SHD(candidates,sim):\n",
    "    x = []\n",
    "    temp_candidate = set()\n",
    "    for xx in candidates:\n",
    "        temp_candidate.add(xx)\n",
    "    for i in range(num_seeds):\n",
    "        max_degree = 0\n",
    "        for node in temp_candidate:\n",
    "            if deg[node] > max_degree:\n",
    "                max_degree = deg[node]\n",
    "                v = node\n",
    "        if len(x)<num_seeds:\n",
    "            x.append(v)\n",
    "        neighbors = neighbors_list[v]\n",
    "        sim_neighbors = set()\n",
    "        for neighbor in neighbors:\n",
    "            if similarity(v,neighbor) > sim:\n",
    "                sim_neighbors.add(neighbor)\n",
    "        temp_candidate.discard(v)\n",
    "        for sim_neighbor in sim_neighbors:\n",
    "            temp_candidate.discard(sim_neighbor)\n",
    "        if len(temp_candidate) == 0: \n",
    "            remaining = num_seeds-1-i\n",
    "            rem=0\n",
    "            while len(x)<num_seeds:\n",
    "                vertex = random.choice(candidates)\n",
    "                if vertex in x:\n",
    "                    continue\n",
    "                x.append(vertex)    \n",
    "                rem+=1    \n",
    "    return x            "
   ]
  },
  {
   "cell_type": "code",
   "execution_count": 56,
   "metadata": {},
   "outputs": [],
   "source": [
    "num_seeds = 10 #SEEDS\n",
    "sim = 0.1\n",
    "seeds = SHD(candidates,sim)\n",
    "#seeds"
   ]
  },
  {
   "cell_type": "code",
   "execution_count": 57,
   "metadata": {},
   "outputs": [],
   "source": [
    "def find_fitness(population):\n",
    "  p = 0.1\n",
    "  fitness = np.zeros((population.shape[0]))\n",
    "  idx = 0  \n",
    "  for frog in population:\n",
    "      term1 = num_seeds\n",
    "      for i in frog:\n",
    "        neighbors = neighbors_list[i]\n",
    "        term1 += deg[i]*p\n",
    "        for j in neighbors:\n",
    "          term1 += deg[j]*p*p\n",
    "\n",
    "      term2 = 0\n",
    "      for i in frog:\n",
    "        neighbors = neighbors_list[i]\n",
    "        temp = 0\n",
    "        for j in neighbors:\n",
    "          if j in frog:\n",
    "              temp = temp + p * (1+deg[j]*p - p)\n",
    "        term2 = term2 + temp\n",
    "\n",
    "      term3 = 0\n",
    "      for i in (frog):\n",
    "        temp1 = 0\n",
    "        neighbors = neighbors_list[i]\n",
    "        for c in neighbors:\n",
    "            temp2=0\n",
    "            if c not in frog:\n",
    "                sec_neighbors = neighbors_list[c]\n",
    "                for d in sec_neighbors:\n",
    "                    if d in frog and d != i:\n",
    "                       temp2 = temp2 + p * p\n",
    "            temp1 = temp1 + temp2\n",
    "        term3=term3+temp1\n",
    "\n",
    "      fitness[idx]= (term1-term2-term3)\n",
    "      idx+=1\n",
    "  return fitness      "
   ]
  },
  {
   "cell_type": "code",
   "execution_count": 58,
   "metadata": {},
   "outputs": [],
   "source": [
    "def find_fitness_single(frog):\n",
    "      p=0.1\n",
    "      fitness=0\n",
    "      term1 = num_seeds\n",
    "      for i in frog:\n",
    "        neighbors = neighbors_list[i]\n",
    "        term1 += deg[i]*p\n",
    "        for j in neighbors:\n",
    "          term1 += deg[j]*p*p\n",
    "\n",
    "      term2 = 0\n",
    "      for i in frog:\n",
    "        neighbors = neighbors_list[i]\n",
    "        temp = 0\n",
    "        for j in neighbors:\n",
    "          if j in frog:\n",
    "              temp = temp + p * (1+deg[j]*p - p)\n",
    "        term2 = term2 + temp\n",
    "\n",
    "      term3 = 0\n",
    "      for i in frog:\n",
    "        temp1 = 0\n",
    "        neighbors = neighbors_list[i]\n",
    "        for c in neighbors:\n",
    "            temp2=0\n",
    "            if c not in frog:\n",
    "                sec_neighbors = neighbors_list[c]\n",
    "                for d in sec_neighbors:\n",
    "                    if d in frog and d != i:\n",
    "                       temp2 = temp2 + p * p\n",
    "            temp1 = temp1 + temp2\n",
    "        term3=term3+temp1\n",
    "\n",
    "      fitness = (term1-term2-term3)\n",
    "      \n",
    "      return fitness"
   ]
  },
  {
   "cell_type": "code",
   "execution_count": 59,
   "metadata": {},
   "outputs": [
    {
     "data": {
      "text/plain": [
       "'for frog in population:\\n    for k in range(num_seeds):\\n                r = random.randrange(0,len(candidates),1);\\n                while candidates[r] in frog:\\n                    r = random.randrange(0,len(candidates),1);  #Completely random\\n                frog[k] = candidates[r]'"
      ]
     },
     "execution_count": 59,
     "metadata": {},
     "output_type": "execute_result"
    }
   ],
   "source": [
    "pop_size = 100\n",
    "max_iterations = 50\n",
    "alpha = 0.2\n",
    "population = np.zeros((pop_size,num_seeds),dtype=int)\n",
    "\n",
    "#step 0\n",
    "n = 5   #number of frogs in each memeplex\n",
    "m = 20   #number of memeplexes\n",
    "#step 1\n",
    "fit = np.zeros((pop_size),dtype=float)\n",
    "temparray = np.zeros((num_seeds),dtype=int)\n",
    "temp=0\n",
    "\n",
    "memeplex = np.zeros((m,n,num_seeds),dtype=int)\n",
    "px = np.zeros((num_seeds),dtype=int)\n",
    "\n",
    "for i in range(pop_size//2):\n",
    "    population[i] = SHD(candidates,0.05)    #SHD\n",
    "    for j in range(num_seeds):\n",
    "        if random.random()>=0.5:\n",
    "            r = random.randrange(0,len(candidates),1)\n",
    "            while candidates[r] in population[i]:\n",
    "                    r = random.randrange(0,len(candidates),1)\n",
    "            population[i][j] = candidates[r]  \n",
    "                \n",
    "for i in range(pop_size//2,pop_size):\n",
    "    for j in range(num_seeds):\n",
    "                r = random.randrange(0,len(candidates),1)\n",
    "                while candidates[r] in population[i]:\n",
    "                    r = random.randrange(0,len(candidates),1)\n",
    "                population[i][j] = candidates[r]   \n",
    "                \n",
    "\"\"\"for i in range(pop_size):\n",
    "    population[i] = SHD(candidates,0.05*(i+1)) \"\"\"    #SHD\n",
    "\"\"\"for frog in population:\n",
    "    for k in range(num_seeds):\n",
    "                r = random.randrange(0,len(candidates),1);\n",
    "                while candidates[r] in frog:\n",
    "                    r = random.randrange(0,len(candidates),1);  #Completely random\n",
    "                frog[k] = candidates[r]\"\"\"\n",
    "      \n",
    "#print(population)    \n"
   ]
  },
  {
   "cell_type": "code",
   "execution_count": 60,
   "metadata": {},
   "outputs": [],
   "source": [
    "fit=find_fitness(population)\n",
    "#print(fit)  \n",
    "\n",
    "order = np.argsort(fit)\n",
    "order = np.flipud(order)\n",
    "new_pop = np.zeros((pop_size,num_seeds),dtype=int) \n",
    "\n",
    "for it in range(len(order)):\n",
    "    new_pop[it] = population[order[it]].copy()\n",
    "for it in range(len(order)):\n",
    "    population[it] = new_pop[it].copy() \n",
    "\n",
    "px=population[0].copy()\n",
    "\n",
    "#print(swarm_pos)\n",
    "fit=find_fitness(population)\n",
    "#print(fit) "
   ]
  },
  {
   "cell_type": "code",
   "execution_count": 61,
   "metadata": {},
   "outputs": [
    {
     "name": "stdout",
     "output_type": "stream",
     "text": [
      "20.549999999999997\n"
     ]
    }
   ],
   "source": [
    "for itr in range(1):     ###max iterations\n",
    "    \n",
    "    #step 3\n",
    "    cnt = 0;\n",
    "    for i in range(n):\n",
    "        for j in range(m):\n",
    "            memeplex[j][i] = population[cnt]\n",
    "            cnt+=1;\n",
    "            \n",
    "    #step 4.0,4,1 and 4.2\n",
    "    max_ls=10\n",
    "    pb=np.zeros((num_seeds),dtype=int)\n",
    "    pw=np.zeros((num_seeds),dtype=int)\n",
    "   \n",
    "    temparray=np.zeros((num_seeds),dtype=int)\n",
    "    \n",
    " \n",
    "    for im in range(m):\n",
    "        for iN in range(max_ls):\n",
    "            \n",
    "          #step 4.3\n",
    "          q = n//2\n",
    "          pb = memeplex[im][0].copy()\n",
    "          pw = memeplex[im][q-1].copy()\n",
    "        \n",
    "         \n",
    "          temparray=pw\n",
    "            \n",
    "          #step 4.4\n",
    "          for k in range(num_seeds):\n",
    "                if pw[k] in pb:\n",
    "                    continue\n",
    "                r = random.randrange(0,len(candidates),1);\n",
    "                while candidates[r] in pw:\n",
    "                    r = random.randrange(0,len(candidates),1);\n",
    "                pw[k] = candidates[r]\n",
    "                \n",
    "          #step 4.5\n",
    "          if find_fitness_single(pw) < find_fitness_single(temparray):\n",
    "            pw = temparray.copy()    \n",
    "            for k in range(num_seeds):\n",
    "                if pw[k] in px:\n",
    "                    continue\n",
    "                r = random.randrange(0,len(candidates),1);\n",
    "                while candidates[r] in pw:\n",
    "                    r = random.randrange(0,len(candidates),1);\n",
    "                pw[k] = candidates[r]\n",
    "                \n",
    "          #step 4.6\n",
    "          if find_fitness_single(pw) < find_fitness_single(temparray):\n",
    "            for k in range(num_seeds):\n",
    "                r = random.randrange(0,len(candidates),1);\n",
    "                while candidates[r] in pw:\n",
    "                    r = random.randrange(0,len(candidates),1);\n",
    "                pw[k] = candidates[r]\n",
    "                \n",
    "          #step 4.7\n",
    "          memeplex[im][q-1] = pw.copy()\n",
    "           \n",
    "         \n",
    "            \n",
    "          #sorting them\n",
    "          fit=find_fitness(memeplex[im])\n",
    "          order = np.argsort(fit)\n",
    "          order = np.flipud(order)\n",
    "          new_pop = np.zeros((n,num_seeds),dtype=int) \n",
    "          for it in range(len(order)):\n",
    "              new_pop[it] = memeplex[im][order[it]].copy()\n",
    "          for it in range(len(order)):\n",
    "              memeplex[im][it] = new_pop[it].copy() \n",
    "                \n",
    "        \n",
    "\n",
    "    #step 5\n",
    "    cnt = 0 \n",
    "    for i in range(m):\n",
    "        for j in range(n):\n",
    "            population[cnt] = memeplex[i][j].copy()\n",
    "            cnt += 1\n",
    "     \n",
    "    fit=find_fitness(population)\n",
    "    order = np.argsort(fit)\n",
    "    order = np.flipud(order)\n",
    "    new_pop = np.zeros((pop_size,num_seeds),dtype=int) \n",
    "    for it in range(len(order)):\n",
    "        new_pop[it] = population[order[it]].copy()\n",
    "    for it in range(len(order)):\n",
    "        population[it] = new_pop[it].copy() \n",
    "        \n",
    "    px=population[0]\n",
    "    print(find_fitness_single(px))\n",
    "\n",
    "\n",
    " "
   ]
  },
  {
   "cell_type": "code",
   "execution_count": 62,
   "metadata": {},
   "outputs": [
    {
     "name": "stdout",
     "output_type": "stream",
     "text": [
      "best_match_idx :  0\n",
      "best_solution :  [32 14 17 20 29  7 41  5 36 45]\n",
      "Best solution fitness :  20.549999999999997\n"
     ]
    }
   ],
   "source": [
    "fitness = find_fitness(population)\n",
    "\n",
    "# Then return the index of that solution corresponding to the best fitness.\n",
    "best_match_idx = np.where(fitness == np.max(fitness))[0]\n",
    "best_match_idx = best_match_idx[0]\n",
    "\n",
    "best_solution = px\n",
    "\n",
    "best_solution_fitness = fitness[best_match_idx]\n",
    "\n",
    "print(\"best_match_idx : \", best_match_idx)\n",
    "print(\"best_solution : \", best_solution)\n",
    "\n",
    "print(\"Best solution fitness : \", best_solution_fitness)\n"
   ]
  },
  {
   "cell_type": "code",
   "execution_count": 63,
   "metadata": {},
   "outputs": [
    {
     "name": "stdout",
     "output_type": "stream",
     "text": [
      "[[14 38  0  7 59 51 29 20  1 57]]\n"
     ]
    },
    {
     "data": {
      "text/plain": [
       "array([20.79])"
      ]
     },
     "execution_count": 63,
     "metadata": {},
     "output_type": "execute_result"
    }
   ],
   "source": [
    "new_seeds = [14,38,0,7,59,51,29,20,1,57]\n",
    "xx = (1, 10)\n",
    " \n",
    "# Creating the initial population.\n",
    "yy = np.random.randint(low=0, high=2, size=xx)\n",
    "yy[0] = new_seeds\n",
    "\n",
    "print(yy)\n",
    "find_fitness(yy)"
   ]
  },
  {
   "cell_type": "code",
   "execution_count": null,
   "metadata": {},
   "outputs": [],
   "source": []
  },
  {
   "cell_type": "code",
   "execution_count": null,
   "metadata": {},
   "outputs": [],
   "source": []
  }
 ],
 "metadata": {
  "kernelspec": {
   "display_name": "Python 3",
   "language": "python",
   "name": "python3"
  },
  "language_info": {
   "codemirror_mode": {
    "name": "ipython",
    "version": 3
   },
   "file_extension": ".py",
   "mimetype": "text/x-python",
   "name": "python",
   "nbconvert_exporter": "python",
   "pygments_lexer": "ipython3",
   "version": "3.6.4"
  }
 },
 "nbformat": 4,
 "nbformat_minor": 2
}
